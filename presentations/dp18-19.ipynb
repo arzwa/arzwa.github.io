{
 "cells": [
  {
   "cell_type": "markdown",
   "metadata": {
    "slideshow": {
     "slide_type": "slide"
    }
   },
   "source": [
    "\n",
    "# Evaluating phylogenomics approaches in genome evolution\n",
    "\n",
    "### Design project - Master Bioinformatics 2018-2019\n",
    "\n",
    "<img width=\"40%\" style=\"float: right;\" src=\"https://camo.githubusercontent.com/271a31013c5338407ab939f65b0fee906f0a4f4e/687474703a2f2f696e636f6e76657267656e742e6e65742f696d672f747265655f632e6a7067\">"
   ]
  },
  {
   "cell_type": "markdown",
   "metadata": {
    "slideshow": {
     "slide_type": "slide"
    }
   },
   "source": [
    "## Genome evolution & whole genome duplication\n",
    "\n",
    "<img src=\"img/vdp17.png\" width=\"50%\"> "
   ]
  },
  {
   "cell_type": "markdown",
   "metadata": {
    "slideshow": {
     "slide_type": "subslide"
    }
   },
   "source": [
    "## Phylogenomics \n",
    "\n",
    "Applying methods from **phylogenetics** to **genome-scale** data\n"
   ]
  },
  {
   "cell_type": "markdown",
   "metadata": {
    "slideshow": {
     "slide_type": "fragment"
    }
   },
   "source": [
    "- to study patterns of **gene gain** and **loss** across multiple lineages\n",
    "- to study **gene function** in an evolutionary context\n",
    "- to infer ancient **whole genome duplication** (WGDs) events"
   ]
  },
  {
   "cell_type": "markdown",
   "metadata": {
    "slideshow": {
     "slide_type": "notes"
    }
   },
   "source": [
    "Phylogenomics is at the interface of evolutionary biology and genomics. It is most often understood as the application of phylogenetics methods to genome scale data sets. It is often used to gain insights in gene function, gene family evolution and large scale evolutionary events (such as whole genome duplications or WGDs) or to perform species tree inference, species delimitation or phylobiogeography."
   ]
  },
  {
   "cell_type": "markdown",
   "metadata": {
    "slideshow": {
     "slide_type": "subslide"
    }
   },
   "source": [
    "### The general phylogenomic pipeline\n",
    "\n",
    "![](img/pipeline.png)"
   ]
  },
  {
   "cell_type": "markdown",
   "metadata": {
    "slideshow": {
     "slide_type": "notes"
    }
   },
   "source": [
    "The general phylogenomic pipeline consists in (1) delimiting gene families and establishing their evolutionary relationships through (2) multiple sequence alignments and (3) phylogenetic tree inference. The first two steps are effectively geared towards establishing hyoptheses of homology, whereas the tree inference itself tries to pin down n exct evolutionary hypothesis on the gene family in question. \n",
    "\n",
    "Gene family inference is generally performed using sophisticated graph clustering methods. Multiple sequence alignment is a horrifyingly challenging task (an aspect often underappreciated due to the existence of user-friendly software), relying on heuristic algorithms. Tree inference has become a challing statistical and computational task, employing some of the most sophisticated maximum likelhood or Bayesian methodologies developed in the whole of statistics.\n",
    "\n",
    "Depending on the actual problem of interest, one will do different things with the alignments or trees, here we will focus on gene tree - species tree reconciliation analysis as a means of constructing an explicit hypothesis of gene family evolution in terms of duplication, loss and transfer events. Gene tree - species tree reconciliation is still quite in its infance, and most people still use simplistic algorithms. Recently, promising sophisticated probabilistic approaches have been proposed (a topic where I am working on new methods for WGD inference)."
   ]
  },
  {
   "cell_type": "markdown",
   "metadata": {
    "slideshow": {
     "slide_type": "slide"
    }
   },
   "source": [
    "## Goals\n",
    "\n",
    "- To **critically evaluate** previous results on **WGD inference** based on phylogenomic reconciliation \n",
    "    - Hexapods - Li *et al.* (2018)\n",
    "    - Seed plants - Jiao *et al.* (2011), Li *et al.* (2015)"
   ]
  },
  {
   "cell_type": "markdown",
   "metadata": {
    "slideshow": {
     "slide_type": "subslide"
    }
   },
   "source": [
    "<img src=\"img/barker_hex.svg\" width=\"100%\">"
   ]
  },
  {
   "cell_type": "markdown",
   "metadata": {
    "slideshow": {
     "slide_type": "subslide"
    }
   },
   "source": [
    "## Goals\n",
    "\n",
    "- To **critically evaluate** previous results on **WGD inference** based on phylogenomic reconciliation \n",
    "    - Hexapods - Li *et al.* (2018)\n",
    "    - Seed plants - Jiao *et al.* (2011), Li *et al.* (2015)\n",
    "\n",
    "- To assess the impact of using **different methods** in phylogenomic reconciliation pipelines\n",
    "- To evaluate error propagation and biases through **simulation experiments**"
   ]
  },
  {
   "cell_type": "markdown",
   "metadata": {
    "slideshow": {
     "slide_type": "notes"
    }
   },
   "source": [
    "The idea is to \n",
    "\n",
    "1. Perform the full phylogenomics pipeline using various methods for every step\n",
    " - gene family inference\n",
    " - multiple sequence alignment\n",
    " - tree inference \n",
    "2. To assess the impact of the different algorithms and error propagation using simulation studies\n",
    "3. To implement various *gene tree - species tree reconciliation* algorithms\n",
    "4. To evaluate and compare the performance and reliability of different commonly used approaches for the inference of WGDs \n",
    "5. To assess the importance of the above for the interpretation of previously published results"
   ]
  },
  {
   "cell_type": "markdown",
   "metadata": {
    "slideshow": {
     "slide_type": "slide"
    }
   },
   "source": [
    "## What you will learn\n",
    "\n",
    "- A great deal about evolutionary genomics and phylogenetics - the mother of all bioinformatics! \n",
    "- Assessing complex methodologies and pipelines through simulation studies\n",
    "- Performing computationally intensive pipelines efficiently\n",
    "- Implementing algorithms on tree structures\n",
    "- Scrutinize and critically evaluate published results"
   ]
  }
 ],
 "metadata": {
  "celltoolbar": "Slideshow",
  "kernelspec": {
   "display_name": "Python 3",
   "language": "python",
   "name": "python3"
  },
  "language_info": {
   "codemirror_mode": {
    "name": "ipython",
    "version": 3
   },
   "file_extension": ".py",
   "mimetype": "text/x-python",
   "name": "python",
   "nbconvert_exporter": "python",
   "pygments_lexer": "ipython3",
   "version": "3.6.6"
  }
 },
 "nbformat": 4,
 "nbformat_minor": 2
}
